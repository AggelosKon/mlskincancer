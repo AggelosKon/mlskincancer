{
 "cells": [
  {
   "cell_type": "code",
   "execution_count": 1,
   "metadata": {},
   "outputs": [],
   "source": [
    "#!/usr/bin/env python\n",
    "# coding: utf-8\n",
    "\n",
    "# # 1 Load the required modules\n",
    "\n",
    "## WARNING: Use tensorflow version >= 2.x.x\n",
    "# Basic libraries\n",
    "import numpy as np"
   ]
  },
  {
   "cell_type": "code",
   "execution_count": 2,
   "metadata": {},
   "outputs": [
    {
     "name": "stderr",
     "output_type": "stream",
     "text": [
      "Using TensorFlow backend.\n"
     ]
    }
   ],
   "source": [
    "# Neural network's components\n",
    "from keras.preprocessing.image import ImageDataGenerator # Used to stream images\n",
    "import keras\n",
    "from tensorflow.keras.models import Sequential, Model # Basic commands for neural networks building\n",
    "from tensorflow.keras.layers import Dense, Dropout, Flatten # Neurons layers\n",
    "from tensorflow.keras.layers import Conv2D, MaxPool2D # Convolutional layers\n",
    "from tensorflow.keras import backend as K # Keras backed to de-allocate memory\n",
    "from tensorflow.keras.optimizers import Adam # Optimizer for neural networks"
   ]
  },
  {
   "cell_type": "code",
   "execution_count": 3,
   "metadata": {},
   "outputs": [],
   "source": [
    "# Configurations\n",
    "import my_utils as utils"
   ]
  },
  {
   "cell_type": "code",
   "execution_count": 4,
   "metadata": {},
   "outputs": [],
   "source": [
    "\n",
    "# # 2 MultiLayer Perceptron Neural Network\n",
    "\n",
    "def build_mlp(neurons=[64, 64, 128], num_classes=2, lr=1e-5, input_shape=(256, 256, 3)):\n",
    "    model = Sequential()\n",
    "    \n",
    "    # Input layer\n",
    "    model.add(Flatten(input_shape = input_shape))\n",
    "    \n",
    "    # for each of the next hidden layers\n",
    "    for layer_neurons in neurons:\n",
    "        model.add(Dense(layer_neurons, activation = 'relu'))\n",
    "        model.add(Dropout(0.5))\n",
    "    \n",
    "    # output layer\n",
    "    model.add(Dense(num_classes, activation='softmax'))\n",
    "    \n",
    "    # Add the optimizer\n",
    "    optimizer = Adam(lr = lr)\n",
    "    model.compile(optimizer = optimizer, loss = \"binary_crossentropy\", metrics = [\"accuracy\"])\n",
    "    \n",
    "    return model"
   ]
  },
  {
   "cell_type": "code",
   "execution_count": 7,
   "metadata": {},
   "outputs": [],
   "source": [
    "def build_cnn(input_shape=(244, 244, 3), num_classes=2, lr=1e-5, filters=[64, 64], neurons=[128]):\n",
    "    model = Sequential()\n",
    "    \n",
    "    # First convolutional layer\n",
    "    # filters[0]=64 filters used for the convolutions\n",
    "    # \"Kernel size\" is filter's size which is chosen to be 5x5\n",
    "    # \"padding='Same'\" means that in case that an image is not of given dimensions\n",
    "    #                  it is filled with its outer pixels until it will\n",
    "    #                  be of given dimensions\n",
    "    # \"input_shape\" of the input layer is the images' dimensions\n",
    "    # \"activation='relu'\" is the function max(0, x)\n",
    "    model.add(Conv2D(filters[0], kernel_size = (5,5),\\\n",
    "                     padding = 'Same', input_shape = input_shape,\\\n",
    "                     activation = 'relu'))\n",
    "    # Command below checks the 5 neighbor pixels of the pixel we examine\n",
    "    # this meaning it checks the upper, lower, left and right pixels\n",
    "    model.add(MaxPool2D(pool_size = (5,5)))\n",
    "    # Command below drops the 25% of the information that is produced\n",
    "    # on this layer, to avoid over-fitting\n",
    "    model.add(Dropout(0.25))\n",
    "    \n",
    "    # Second and later convolutional layers\n",
    "    for i in range(2, len(filters)+1):\n",
    "        model.add(Conv2D(filters[i-1], kernel_size=(5,5),\\\n",
    "                         padding = 'Same', activation = 'relu'))\n",
    "        model.add(MaxPool2D(pool_size = (5,5)))\n",
    "        model.add(Dropout(0.25))\n",
    "    \n",
    "    # The model so far outputs 3D feature maps (height, width, features)\n",
    "    \n",
    "    # An MLP to produce the output\n",
    "    model.add(Flatten()) # this converts our 3D feature maps to 1D feature vectors\n",
    "    for layer_neurons in neurons:\n",
    "        model.add(Dense(layer_neurons, activation = 'relu'))\n",
    "    model.add(Dense(num_classes, activation = 'softmax'))\n",
    "    \n",
    "    model.summary()\n",
    "    \n",
    "    optimizer = Adam(lr = lr)\n",
    "    \n",
    "    model.compile(optimizer = optimizer, loss = \"binary_crossentropy\", metrics = [\"accuracy\"])\n",
    "    \n",
    "    return model"
   ]
  },
  {
   "cell_type": "code",
   "execution_count": 10,
   "metadata": {},
   "outputs": [
    {
     "name": "stdout",
     "output_type": "stream",
     "text": [
      "\n",
      "Insert:\n",
      "\t1 - To evaluate a MultiLayer Perceptron NN\n",
      "\t2 - To evaluate a Convolutional NN\n",
      "\t3 - To evaluate a Stochastic Gradient Descent model\n",
      "\t0 - To Exit\n",
      "Choice: 1\n",
      "Found 9233 images belonging to 2 classes.\n",
      "Found 1283 images belonging to 2 classes.\n",
      "Start training process for the MLP model...\n",
      "WARNING:tensorflow:sample_weight modes were coerced from\n",
      "  ...\n",
      "    to  \n",
      "  ['...']\n",
      "WARNING:tensorflow:sample_weight modes were coerced from\n",
      "  ...\n",
      "    to  \n",
      "  ['...']\n",
      "Train for 144 steps, validate for 20 steps\n",
      "Epoch 1/10\n",
      "144/144 [==============================] - 163s 1s/step - loss: 0.7631 - accuracy: 0.5676 - val_loss: 0.6377 - val_accuracy: 0.5664\n",
      "Epoch 2/10\n",
      "144/144 [==============================] - 154s 1s/step - loss: 0.6360 - accuracy: 0.6233 - val_loss: 0.6048 - val_accuracy: 0.6172\n",
      "Epoch 3/10\n",
      "144/144 [==============================] - 157s 1s/step - loss: 0.6232 - accuracy: 0.6430 - val_loss: 0.5996 - val_accuracy: 0.6633\n",
      "Epoch 4/10\n",
      "144/144 [==============================] - 154s 1s/step - loss: 0.6110 - accuracy: 0.6629 - val_loss: 0.5840 - val_accuracy: 0.6344\n",
      "Epoch 5/10\n",
      "144/144 [==============================] - 153s 1s/step - loss: 0.6046 - accuracy: 0.6720 - val_loss: 0.5976 - val_accuracy: 0.7109\n",
      "Epoch 6/10\n",
      "144/144 [==============================] - 150s 1s/step - loss: 0.5997 - accuracy: 0.6719 - val_loss: 0.5725 - val_accuracy: 0.6367\n",
      "Epoch 7/10\n",
      "144/144 [==============================] - 161s 1s/step - loss: 0.5943 - accuracy: 0.6828 - val_loss: 0.5603 - val_accuracy: 0.6875\n",
      "Epoch 8/10\n",
      "144/144 [==============================] - 161s 1s/step - loss: 0.5924 - accuracy: 0.6751 - val_loss: 0.5575 - val_accuracy: 0.7195\n",
      "Epoch 9/10\n",
      "144/144 [==============================] - 159s 1s/step - loss: 0.5854 - accuracy: 0.6879 - val_loss: 0.5542 - val_accuracy: 0.6789\n",
      "Epoch 10/10\n",
      "144/144 [==============================] - 153s 1s/step - loss: 0.5870 - accuracy: 0.6862 - val_loss: 0.5675 - val_accuracy: 0.7180\n",
      "MLP model training process was successful!\n",
      "Start evaluating the MLP model over validation set...\n",
      "WARNING:tensorflow:sample_weight modes were coerced from\n",
      "  ...\n",
      "    to  \n",
      "  ['...']\n",
      "20/20 [==============================] - 8s 402ms/step - loss: 0.5675 - accuracy: 0.7180\n",
      "MLP model was evaluated on validation set successfully!\n",
      "Start evaluating the MLP model on test set...\n",
      "Found 2671 images belonging to 1 classes.\n",
      "2671/2671 [==============================] - 195s 73ms/step\n",
      "MLP model was evaluated on test set successfully!\n",
      "MLP model evaluated in train set with loss = 0.5675113826990128 and accuracy = 0.71796876\n"
     ]
    },
    {
     "data": {
      "image/png": "[encoded data removed]",
      "text/plain": [
       "<Figure size 432x288 with 1 Axes>"
      ]
     },
     "metadata": {
      "needs_background": "light"
     },
     "output_type": "display_data"
    },
    {
     "data": {
      "image/png": "[encoded data removed]",
      "text/plain": [
       "<Figure size 432x288 with 1 Axes>"
      ]
     },
     "metadata": {
      "needs_background": "light"
     },
     "output_type": "display_data"
    },
    {
     "name": "stdout",
     "output_type": "stream",
     "text": [
      "\n",
      "\n",
      "                     true_benign  true_malignant\n",
      "predicted_benign            1094             310\n",
      "predicted_malignant          398             869\n",
      "\n",
      "\n",
      "             precision    recall  f1-score support\n",
      "benign        0.779202  0.733244  0.755525    1492\n",
      "malignant     0.685872  0.737065  0.710548    1179\n",
      "accuracy            NA        NA  0.734931    2671\n",
      "macro avg     0.732537  0.735155  0.733036    2671\n",
      "weighted avg  0.738006  0.734931  0.735672    2671\n",
      "\n",
      "Insert:\n",
      "\t1 - To evaluate a MultiLayer Perceptron NN\n",
      "\t2 - To evaluate a Convolutional NN\n",
      "\t3 - To evaluate a Stochastic Gradient Descent model\n",
      "\t0 - To Exit\n",
      "Choice: 0\n"
     ]
    },
    {
     "ename": "SystemExit",
     "evalue": "",
     "output_type": "error",
     "traceback": [
      "An exception has occurred, use %tb to see the full traceback.\n",
      "\u001b[1;31mSystemExit\u001b[0m\n"
     ]
    },
    {
     "name": "stderr",
     "output_type": "stream",
     "text": [
      "D:\\Users\\astar\\anaconda3\\envs\\t\\lib\\site-packages\\IPython\\core\\interactiveshell.py:3425: UserWarning: To exit: use 'exit', 'quit', or Ctrl-D.\n",
      "  warn(\"To exit: use 'exit', 'quit', or Ctrl-D.\", stacklevel=1)\n"
     ]
    }
   ],
   "source": [
    "\n",
    "\n",
    "# # 4 Run the models\n",
    "\n",
    "if __name__ == '__main__':    \n",
    "    if int(utils.tf_version().split('.')[0]) < 2:\n",
    "        raise Exception('Tensorflow version must be at least 2.x.x! Please update!')\n",
    "\n",
    "    batch_size = 64 # Amount of elements that feeded together to the model for processing\n",
    "    rescale_factor = 1./255\n",
    "    lr = 1e-5 # Initial learning rate\n",
    "    num_classes = 2 # Number of classes to classify to\n",
    "    y_actual, _ = utils.y_actual_labels() # Get the actual label for the test set\n",
    "\n",
    "    choice = -1\n",
    "    while choice != 0:\n",
    "        choice = int(input('\\nInsert:'                           '\\n\\t1 - To evaluate a MultiLayer Perceptron NN'                           '\\n\\t2 - To evaluate a Convolutional NN'                           '\\n\\t3 - To evaluate a Stochastic Gradient Descent model'                           '\\n\\t0 - To Exit'                           '\\nChoice: '))\n",
    "\n",
    "        epochs = 1\n",
    "        name = ''\n",
    "\n",
    "        if choice == 0:\n",
    "            raise SystemExit()\n",
    "        elif choice == 1:\n",
    "            model = build_mlp(neurons = [512, 512], num_classes = num_classes, lr = lr)\n",
    "            epochs = 10\n",
    "            name = 'MLP'\n",
    "        elif choice == 2:\n",
    "            model = build_cnn(input_shape = (256, 256, 3), num_classes = num_classes,\n",
    "                              lr = lr, filters = [32, 32, 32], neurons = [512])\n",
    "            epochs = 10\n",
    "            name = 'CNN'\n",
    "        elif choice == 3:\n",
    "            epochs = 5\n",
    "            name = 'SGD'\n",
    "        else:\n",
    "            print('Invalid choice!\\n')\n",
    "            continue\n",
    "            \n",
    "        if choice in [1, 2]:\n",
    "            result = utils.run_nn(model, epochs = epochs, batch_size = batch_size, rescale_factor = rescale_factor, name = name)\n",
    "\n",
    "            print(name + ' model evaluated in train set with',\n",
    "                  ' and '.join([i + ' = ' + str(j) for i, j in result['metrics'].items()]))\n",
    "\n",
    "            for what in ['accuracy', 'loss']:\n",
    "                where = 'lower right'\n",
    "\n",
    "                if what == 'loss':\n",
    "                    where = 'lower left'\n",
    "\n",
    "                utils.plot_model(result['history'].history[what], result['history'].history['val_' + what],\n",
    "                                 what, where)\n",
    "        elif choice == 3:\n",
    "            result = utils.run_sgd(epochs = epochs, batch_size = batch_size, alpha = lr, rescale_factor = rescale_factor)\n",
    "            \n",
    "            print(utils.confusion_matrix(y_actual, result['predictions']))\n",
    "           \n",
    "            get_ipython().run_line_magic('matplotlib', 'inline')\n",
    "            import matplotlib.pyplot as plt\n",
    "           \n",
    "            plt.plot([x+1 for x in range(epochs)], result['history'])\n",
    "            plt.title('SGD model accuracy')\n",
    "            plt.ylabel('accuracy')\n",
    "            plt.xlabel('epoch')\n",
    "            plt.legend(['test'], loc='lower left')\n",
    "            plt.show()\n",
    "            \n",
    "        print('\\n')\n",
    "        print(utils.confusion_matrix(y_actual, result['predictions']))\n",
    "\n",
    "        print('\\n')\n",
    "        print(utils.classification_report(y_actual, result['predictions']))\n",
    "        \n"
   ]
  },
  {
   "cell_type": "markdown",
   "metadata": {},
   "source": [
    "accuracy"
   ]
  },
  {
   "cell_type": "code",
   "execution_count": 8,
   "metadata": {},
   "outputs": [
    {
     "name": "stdout",
     "output_type": "stream",
     "text": [
      "\n",
      "Insert:\n",
      "\t1 - To evaluate a MultiLayer Perceptron NN\n",
      "\t2 - To evaluate a Convolutional NN\n",
      "\t3 - To evaluate a Stochastic Gradient Descent model\n",
      "\t0 - To Exit\n",
      "Choice: 2\n",
      "Model: \"sequential\"\n",
      "_________________________________________________________________\n",
      "Layer (type)                 Output Shape              Param #   \n",
      "=================================================================\n",
      "conv2d (Conv2D)              (None, 256, 256, 32)      2432      \n",
      "_________________________________________________________________\n",
      "max_pooling2d (MaxPooling2D) (None, 51, 51, 32)        0         \n",
      "_________________________________________________________________\n",
      "dropout (Dropout)            (None, 51, 51, 32)        0         \n",
      "_________________________________________________________________\n",
      "conv2d_1 (Conv2D)            (None, 51, 51, 32)        25632     \n",
      "_________________________________________________________________\n",
      "max_pooling2d_1 (MaxPooling2 (None, 10, 10, 32)        0         \n",
      "_________________________________________________________________\n",
      "dropout_1 (Dropout)          (None, 10, 10, 32)        0         \n",
      "_________________________________________________________________\n",
      "conv2d_2 (Conv2D)            (None, 10, 10, 32)        25632     \n",
      "_________________________________________________________________\n",
      "max_pooling2d_2 (MaxPooling2 (None, 2, 2, 32)          0         \n",
      "_________________________________________________________________\n",
      "dropout_2 (Dropout)          (None, 2, 2, 32)          0         \n",
      "_________________________________________________________________\n",
      "flatten (Flatten)            (None, 128)               0         \n",
      "_________________________________________________________________\n",
      "dense (Dense)                (None, 512)               66048     \n",
      "_________________________________________________________________\n",
      "dense_1 (Dense)              (None, 2)                 1026      \n",
      "=================================================================\n",
      "Total params: 120,770\n",
      "Trainable params: 120,770\n",
      "Non-trainable params: 0\n",
      "_________________________________________________________________\n",
      "Found 9233 images belonging to 2 classes.\n",
      "Found 1283 images belonging to 2 classes.\n",
      "Start training process for the CNN model...\n",
      "WARNING:tensorflow:sample_weight modes were coerced from\n",
      "  ...\n",
      "    to  \n",
      "  ['...']\n",
      "WARNING:tensorflow:sample_weight modes were coerced from\n",
      "  ...\n",
      "    to  \n",
      "  ['...']\n",
      "Train for 144 steps, validate for 20 steps\n",
      "Epoch 1/10\n",
      "144/144 [==============================] - 818s 6s/step - loss: 0.6942 - accuracy: 0.5341 - val_loss: 0.6910 - val_accuracy: 0.5508\n",
      "Epoch 2/10\n",
      "144/144 [==============================] - 694s 5s/step - loss: 0.6865 - accuracy: 0.5444 - val_loss: 0.6892 - val_accuracy: 0.5437\n",
      "Epoch 3/10\n",
      "144/144 [==============================] - 727s 5s/step - loss: 0.6832 - accuracy: 0.5540 - val_loss: 0.6873 - val_accuracy: 0.6203\n",
      "Epoch 4/10\n",
      "144/144 [==============================] - 622s 4s/step - loss: 0.6722 - accuracy: 0.5704 - val_loss: 0.6813 - val_accuracy: 0.6773\n",
      "Epoch 5/10\n",
      "144/144 [==============================] - 474s 3s/step - loss: 0.6539 - accuracy: 0.6012 - val_loss: 0.6679 - val_accuracy: 0.7055\n",
      "Epoch 6/10\n",
      "144/144 [==============================] - 474s 3s/step - loss: 0.6230 - accuracy: 0.6536 - val_loss: 0.6405 - val_accuracy: 0.7055\n",
      "Epoch 7/10\n",
      "144/144 [==============================] - 552s 4s/step - loss: 0.5846 - accuracy: 0.6909 - val_loss: 0.6150 - val_accuracy: 0.7117\n",
      "Epoch 8/10\n",
      "144/144 [==============================] - 555s 4s/step - loss: 0.5556 - accuracy: 0.7131 - val_loss: 0.5913 - val_accuracy: 0.7008\n",
      "Epoch 9/10\n",
      "144/144 [==============================] - 547s 4s/step - loss: 0.5312 - accuracy: 0.7252 - val_loss: 0.5741 - val_accuracy: 0.6984\n",
      "Epoch 10/10\n",
      "144/144 [==============================] - 535s 4s/step - loss: 0.5112 - accuracy: 0.7392 - val_loss: 0.5560 - val_accuracy: 0.7141\n",
      "CNN model training process was successful!\n",
      "Start evaluating the CNN model over validation set...\n",
      "WARNING:tensorflow:sample_weight modes were coerced from\n",
      "  ...\n",
      "    to  \n",
      "  ['...']\n",
      "20/20 [==============================] - 20s 993ms/step - loss: 0.5560 - accuracy: 0.7141\n",
      "CNN model was evaluated on validation set successfully!\n",
      "Start evaluating the CNN model on test set...\n",
      "Found 2671 images belonging to 1 classes.\n",
      "2671/2671 [==============================] - 49s 18ms/step\n",
      "CNN model was evaluated on test set successfully!\n",
      "CNN model evaluated in train set with loss = 0.5560023546218872 and accuracy = 0.7140625\n"
     ]
    },
    {
     "data": {
      "image/png": "[encoded data removed]",
      "text/plain": [
       "<Figure size 432x288 with 1 Axes>"
      ]
     },
     "metadata": {
      "needs_background": "light"
     },
     "output_type": "display_data"
    },
    {
     "data": {
      "image/png": "[encoded data removed]",
      "text/plain": [
       "<Figure size 432x288 with 1 Axes>"
      ]
     },
     "metadata": {
      "needs_background": "light"
     },
     "output_type": "display_data"
    },
    {
     "name": "stdout",
     "output_type": "stream",
     "text": [
      "\n",
      "\n",
      "                     true_benign  true_malignant\n",
      "predicted_benign            1121             317\n",
      "predicted_malignant          371             862\n",
      "\n",
      "\n",
      "             precision    recall  f1-score support\n",
      "benign        0.779555   0.75134  0.765188    1492\n",
      "malignant     0.699108  0.731128   0.71476    1179\n",
      "accuracy            NA        NA  0.742419    2671\n",
      "macro avg     0.739331  0.741234  0.739974    2671\n",
      "weighted avg  0.744045  0.742419  0.742928    2671\n",
      "\n",
      "Insert:\n",
      "\t1 - To evaluate a MultiLayer Perceptron NN\n",
      "\t2 - To evaluate a Convolutional NN\n",
      "\t3 - To evaluate a Stochastic Gradient Descent model\n",
      "\t0 - To Exit\n",
      "Choice: 0\n"
     ]
    },
    {
     "ename": "SystemExit",
     "evalue": "",
     "output_type": "error",
     "traceback": [
      "An exception has occurred, use %tb to see the full traceback.\n",
      "\u001b[1;31mSystemExit\u001b[0m\n"
     ]
    },
    {
     "name": "stderr",
     "output_type": "stream",
     "text": [
      "D:\\Users\\astar\\anaconda3\\envs\\t\\lib\\site-packages\\IPython\\core\\interactiveshell.py:3425: UserWarning: To exit: use 'exit', 'quit', or Ctrl-D.\n",
      "  warn(\"To exit: use 'exit', 'quit', or Ctrl-D.\", stacklevel=1)\n"
     ]
    }
   ],
   "source": [
    "# # 4 Run the models\n",
    "\n",
    "if __name__ == '__main__':    \n",
    "    if int(utils.tf_version().split('.')[0]) < 2:\n",
    "        raise Exception('Tensorflow version must be at least 2.x.x! Please update!')\n",
    "\n",
    "    batch_size = 64 # Amount of elements that feeded together to the model for processing\n",
    "    rescale_factor = 1./255\n",
    "    lr = 1e-5 # Initial learning rate\n",
    "    num_classes = 2 # Number of classes to classify to\n",
    "    y_actual, _ = utils.y_actual_labels() # Get the actual label for the test set\n",
    "\n",
    "    choice = -1\n",
    "    while choice != 0:\n",
    "        choice = int(input('\\nInsert:'                           '\\n\\t1 - To evaluate a MultiLayer Perceptron NN'                           '\\n\\t2 - To evaluate a Convolutional NN'                           '\\n\\t3 - To evaluate a Stochastic Gradient Descent model'                           '\\n\\t0 - To Exit'                           '\\nChoice: '))\n",
    "\n",
    "        epochs = 1\n",
    "        name = ''\n",
    "\n",
    "        if choice == 0:\n",
    "            raise SystemExit()\n",
    "        elif choice == 1:\n",
    "            model = build_mlp(neurons = [512, 512], num_classes = num_classes, lr = lr)\n",
    "            epochs = 10\n",
    "            name = 'MLP'\n",
    "        elif choice == 2:\n",
    "            model = build_cnn(input_shape = (256, 256, 3), num_classes = num_classes,\n",
    "                              lr = lr, filters = [32, 32, 32], neurons = [512])\n",
    "            epochs = 10\n",
    "            name = 'CNN'\n",
    "        elif choice == 3:\n",
    "            epochs = 5\n",
    "            name = 'SGD'\n",
    "        else:\n",
    "            print('Invalid choice!\\n')\n",
    "            continue\n",
    "            \n",
    "        if choice in [1, 2]:\n",
    "            result = utils.run_nn(model, epochs = epochs, batch_size = batch_size, rescale_factor = rescale_factor, name = name)\n",
    "\n",
    "            print(name + ' model evaluated in train set with',\n",
    "                  ' and '.join([i + ' = ' + str(j) for i, j in result['metrics'].items()]))\n",
    "\n",
    "            for what in ['accuracy', 'loss']:\n",
    "                where = 'lower right'\n",
    "\n",
    "                if what == 'loss':\n",
    "                    where = 'lower left'\n",
    "\n",
    "                utils.plot_model(result['history'].history[what], result['history'].history['val_' + what],\n",
    "                                 what, where)\n",
    "        elif choice == 3:\n",
    "            result = utils.run_sgd(epochs = epochs, batch_size = batch_size, alpha = lr, rescale_factor = rescale_factor)\n",
    "            \n",
    "            print(utils.confusion_matrix(y_actual, result['predictions']))\n",
    "           \n",
    "            get_ipython().run_line_magic('matplotlib', 'inline')\n",
    "            import matplotlib.pyplot as plt\n",
    "           \n",
    "            plt.plot([x+1 for x in range(epochs)], result['history'])\n",
    "            plt.title('SGD model accuracy')\n",
    "            plt.ylabel('accuracy')\n",
    "            plt.xlabel('epoch')\n",
    "            plt.legend(['test'], loc='lower left')\n",
    "            plt.show()\n",
    "            \n",
    "        print('\\n')\n",
    "        print(utils.confusion_matrix(y_actual, result['predictions']))\n",
    "\n",
    "        print('\\n')\n",
    "        print(utils.classification_report(y_actual, result['predictions']))\n",
    "        "
   ]
  },
  {
   "cell_type": "code",
   "execution_count": 27,
   "metadata": {},
   "outputs": [
    {
     "name": "stdout",
     "output_type": "stream",
     "text": [
      "Requirement already satisfied: pillow in d:\\users\\astar\\anaconda3\\envs\\t\\lib\\site-packages (8.0.0)\n",
      "Note: you may need to restart the kernel to use updated packages.\n"
     ]
    }
   ],
   "source": [
    "pip install pillow"
   ]
  },
  {
   "cell_type": "code",
   "execution_count": 9,
   "metadata": {},
   "outputs": [
    {
     "name": "stdout",
     "output_type": "stream",
     "text": [
      "\n",
      "Insert:\n",
      "\t1 - To evaluate a MultiLayer Perceptron NN\n",
      "\t2 - To evaluate a Convolutional NN\n",
      "\t3 - To evaluate a Stochastic Gradient Descent model\n",
      "\t0 - To Exit\n",
      "Choice: 3\n",
      "Found 9233 images belonging to 2 classes.\n",
      "Found 1283 images belonging to 2 classes.\n",
      "Start training process for the SGD model...\n",
      "Epoch 1/5 (107.00 seconds)\n",
      "Epoch 2/5 (103.30 seconds)\n",
      "Epoch 3/5 (126.56 seconds)\n",
      "Epoch 4/5 (138.61 seconds)\n",
      "Epoch 5/5 (142.88 seconds)\n",
      "Training process for the SGD model was sucessful!\n",
      "Start evaluating the SGD model on test set...\n",
      "Found 2671 images belonging to 1 classes.\n",
      "1000 images processed\n",
      "2000 images processed\n",
      "2671 images processed\n",
      "SGD model was evaluated on test set successfully!\n",
      "                     true_benign  true_malignant\n",
      "predicted_benign            1432            1069\n",
      "predicted_malignant           60             110\n"
     ]
    },
    {
     "data": {
      "image/png": "[encoded data removed]",
      "text/plain": [
       "<Figure size 432x288 with 1 Axes>"
      ]
     },
     "metadata": {
      "needs_background": "light"
     },
     "output_type": "display_data"
    },
    {
     "name": "stdout",
     "output_type": "stream",
     "text": [
      "\n",
      "\n",
      "                     true_benign  true_malignant\n",
      "predicted_benign            1432            1069\n",
      "predicted_malignant           60             110\n",
      "\n",
      "\n",
      "             precision     recall  f1-score support\n",
      "benign        0.572571   0.959786  0.717255    1492\n",
      "malignant     0.647059  0.0932994  0.163084    1179\n",
      "accuracy            NA         NA  0.577312    2671\n",
      "macro avg     0.609815   0.526542  0.440169    2671\n",
      "weighted avg   0.60545   0.577312   0.47264    2671\n",
      "\n",
      "Insert:\n",
      "\t1 - To evaluate a MultiLayer Perceptron NN\n",
      "\t2 - To evaluate a Convolutional NN\n",
      "\t3 - To evaluate a Stochastic Gradient Descent model\n",
      "\t0 - To Exit\n",
      "Choice: 0\n"
     ]
    },
    {
     "ename": "SystemExit",
     "evalue": "",
     "output_type": "error",
     "traceback": [
      "An exception has occurred, use %tb to see the full traceback.\n",
      "\u001b[1;31mSystemExit\u001b[0m\n"
     ]
    },
    {
     "name": "stderr",
     "output_type": "stream",
     "text": [
      "D:\\Users\\astar\\anaconda3\\envs\\t\\lib\\site-packages\\IPython\\core\\interactiveshell.py:3425: UserWarning: To exit: use 'exit', 'quit', or Ctrl-D.\n",
      "  warn(\"To exit: use 'exit', 'quit', or Ctrl-D.\", stacklevel=1)\n"
     ]
    }
   ],
   "source": [
    "# # 4 Run the models\n",
    "\n",
    "if __name__ == '__main__':    \n",
    "    if int(utils.tf_version().split('.')[0]) < 2:\n",
    "        raise Exception('Tensorflow version must be at least 2.x.x! Please update!')\n",
    "\n",
    "    batch_size = 64 # Amount of elements that feeded together to the model for processing\n",
    "    rescale_factor = 1./255\n",
    "    lr = 1e-5 # Initial learning rate\n",
    "    num_classes = 2 # Number of classes to classify to\n",
    "    y_actual, _ = utils.y_actual_labels() # Get the actual label for the test set\n",
    "\n",
    "    choice = -1\n",
    "    while choice != 0:\n",
    "        choice = int(input('\\nInsert:'                           '\\n\\t1 - To evaluate a MultiLayer Perceptron NN'                           '\\n\\t2 - To evaluate a Convolutional NN'                           '\\n\\t3 - To evaluate a Stochastic Gradient Descent model'                           '\\n\\t0 - To Exit'                           '\\nChoice: '))\n",
    "\n",
    "        epochs = 1\n",
    "        name = ''\n",
    "\n",
    "        if choice == 0:\n",
    "            raise SystemExit()\n",
    "        elif choice == 1:\n",
    "            model = build_mlp(neurons = [512, 512], num_classes = num_classes, lr = lr)\n",
    "            epochs = 10\n",
    "            name = 'MLP'\n",
    "        elif choice == 2:\n",
    "            model = build_cnn(input_shape = (256, 256, 3), num_classes = num_classes,\n",
    "                              lr = lr, filters = [32, 32, 32], neurons = [512])\n",
    "            epochs = 10\n",
    "            name = 'CNN'\n",
    "        elif choice == 3:\n",
    "            epochs = 5\n",
    "            name = 'SGD'\n",
    "        else:\n",
    "            print('Invalid choice!\\n')\n",
    "            continue\n",
    "            \n",
    "        if choice in [1, 2]:\n",
    "            result = utils.run_nn(model, epochs = epochs, batch_size = batch_size, rescale_factor = rescale_factor, name = name)\n",
    "\n",
    "            print(name + ' model evaluated in train set with',\n",
    "                  ' and '.join([i + ' = ' + str(j) for i, j in result['metrics'].items()]))\n",
    "\n",
    "            for what in ['accuracy', 'loss']:\n",
    "                where = 'lower right'\n",
    "\n",
    "                if what == 'loss':\n",
    "                    where = 'lower left'\n",
    "\n",
    "                utils.plot_model(result['history'].history[what], result['history'].history['val_' + what],\n",
    "                                 what, where)\n",
    "        elif choice == 3:\n",
    "            result = utils.run_sgd(epochs = epochs, batch_size = batch_size, alpha = lr, rescale_factor = rescale_factor)\n",
    "            \n",
    "            print(utils.confusion_matrix(y_actual, result['predictions']))\n",
    "           \n",
    "            get_ipython().run_line_magic('matplotlib', 'inline')\n",
    "            import matplotlib.pyplot as plt\n",
    "           \n",
    "            plt.plot([x+1 for x in range(epochs)], result['history'])\n",
    "            plt.title('SGD model accuracy')\n",
    "            plt.ylabel('accuracy')\n",
    "            plt.xlabel('epoch')\n",
    "            plt.legend(['test'], loc='lower left')\n",
    "            plt.show()\n",
    "            \n",
    "        print('\\n')\n",
    "        print(utils.confusion_matrix(y_actual, result['predictions']))\n",
    "\n",
    "        print('\\n')\n",
    "        print(utils.classification_report(y_actual, result['predictions']))\n",
    "        "
   ]
  },
  {
   "cell_type": "code",
   "execution_count": null,
   "metadata": {},
   "outputs": [],
   "source": []
  }
 ],
 "metadata": {
  "kernelspec": {
   "display_name": "Python 3",
   "language": "python",
   "name": "python3"
  },
  "language_info": {
   "codemirror_mode": {
    "name": "ipython",
    "version": 3
   },
   "file_extension": ".py",
   "mimetype": "text/x-python",
   "name": "python",
   "nbconvert_exporter": "python",
   "pygments_lexer": "ipython3",
   "version": "3.7.9"
  }
 },
 "nbformat": 4,
 "nbformat_minor": 4
}
