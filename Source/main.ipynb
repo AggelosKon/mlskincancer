{
 "cells": [
  {
   "cell_type": "markdown",
   "metadata": {},
   "source": [
    "# 1 Load the required modules"
   ]
  },
  {
   "cell_type": "code",
   "execution_count": 1,
   "metadata": {},
   "outputs": [
    {
     "name": "stderr",
     "output_type": "stream",
     "text": [
      "Using TensorFlow backend.\n"
     ]
    }
   ],
   "source": [
    "## WARNING: Use tensorflow version >= 2.x.x\n",
    "# Basic libraries\n",
    "import numpy as np\n",
    "# Neural network's components\n",
    "from keras.preprocessing.image import ImageDataGenerator # Used to stream images\n",
    "import keras\n",
    "from tensorflow.keras.models import Sequential, Model # Basic commands for neural networks building\n",
    "from tensorflow.keras.layers import Dense, Dropout, Flatten # Neurons layers\n",
    "from tensorflow.keras.layers import Conv2D, MaxPool2D # Convolutional layers\n",
    "from tensorflow.keras import backend as K # Keras backed to de-allocate memory\n",
    "from tensorflow.keras.optimizers import Adam # Optimizer for neural networks\n",
    "\n",
    "# Configurations\n",
    "import my_utils as utils"
   ]
  },
  {
   "cell_type": "markdown",
   "metadata": {},
   "source": [
    "# 2 MultiLayer Perceptron Neural Network"
   ]
  },
  {
   "cell_type": "code",
   "execution_count": 2,
   "metadata": {},
   "outputs": [],
   "source": [
    "def build_mlp(neurons=[64, 64, 128], num_classes=2, lr=1e-5, input_shape=(256, 256, 3)):\n",
    "    model = Sequential()\n",
    "    \n",
    "    # Input layer\n",
    "    model.add(Flatten(input_shape = input_shape))\n",
    "    \n",
    "    # for each of the next hidden layers\n",
    "    for layer_neurons in neurons:\n",
    "        model.add(Dense(layer_neurons, activation = 'relu'))\n",
    "        model.add(Dropout(0.5))\n",
    "    \n",
    "    # output layer\n",
    "    model.add(Dense(num_classes, activation='softmax'))\n",
    "    \n",
    "    # Add the optimizer\n",
    "    optimizer = Adam(lr = lr)\n",
    "    model.compile(optimizer = optimizer, loss = \"binary_crossentropy\", metrics = [\"accuracy\"])\n",
    "    \n",
    "    return model"
   ]
  },
  {
   "cell_type": "markdown",
   "metadata": {},
   "source": [
    "# 3 Convolutional Neural Network"
   ]
  },
  {
   "cell_type": "code",
   "execution_count": 3,
   "metadata": {},
   "outputs": [],
   "source": [
    "def build_cnn(input_shape=(244, 244, 3), num_classes=2, lr=1e-5, filters=[64, 64], neurons=[128]):\n",
    "    \n",
    "    model = Sequential()\n",
    "    \n",
    "    # First convolutional layer\n",
    "    # filters[0]=64 filters used for the convolutions\n",
    "    # \"Kernel size\" is filter's size which is chosen to be 5x5\n",
    "    # \"padding='Same'\" means that in case that an image is not of given dimensions\n",
    "    #                  it is filled with its outer pixels until it will\n",
    "    #                  be of given dimensions\n",
    "    # \"input_shape\" of the input layer is the images' dimensions\n",
    "    # \"activation='relu'\" is the function max(0, x)\n",
    "    model.add(Conv2D(filters[0], kernel_size = (5,5),\\\n",
    "                     padding = 'Same', input_shape = input_shape,\\\n",
    "                     activation = 'relu'))\n",
    "    # Command below checks the 5 neighbor pixels of the pixel we examine\n",
    "    # this meaning it checks the upper, lower, left and right pixels\n",
    "    model.add(MaxPool2D(pool_size = (5,5)))\n",
    "    # Command below drops the 25% of the information that is produced\n",
    "    # on this layer, to avoid over-fitting\n",
    "    model.add(Dropout(0.25))\n",
    "    \n",
    "    # Second and later convolutional layers\n",
    "    for i in range(2, len(filters)+1):\n",
    "        model.add(Conv2D(filters[i-1], kernel_size=(5,5),\\\n",
    "                         padding = 'Same', activation = 'relu'))\n",
    "        model.add(MaxPool2D(pool_size = (5,5)))\n",
    "        model.add(Dropout(0.25))\n",
    "    \n",
    "    # The model so far outputs 3D feature maps (height, width, features)\n",
    "    \n",
    "    # An MLP to produce the output\n",
    "    model.add(Flatten()) # this converts our 3D feature maps to 1D feature vectors\n",
    "    for layer_neurons in neurons:\n",
    "        model.add(Dense(layer_neurons, activation = 'relu'))\n",
    "    model.add(Dense(num_classes, activation = 'softmax'))\n",
    "    \n",
    "    model.summary()\n",
    "    \n",
    "    optimizer = Adam(lr = lr)\n",
    "    \n",
    "    model.compile(optimizer = optimizer, loss = \"binary_crossentropy\", metrics = [\"accuracy\"])\n",
    "    \n",
    "    return model"
   ]
  },
  {
   "cell_type": "markdown",
   "metadata": {},
   "source": [
    "# 4 Run the models"
   ]
  },
  {
   "cell_type": "code",
   "execution_count": null,
   "metadata": {},
   "outputs": [
    {
     "name": "stdout",
     "output_type": "stream",
     "text": [
      "\n",
      "Insert:\n",
      "\t1 - To evaluate a MultiLayer Perceptron NN\n",
      "\t2 - To evaluate a Convolutional NN\n",
      "\t3 - To evaluate a Stochastic Gradient Descent\n",
      "\t4 - To evaluate a Support Vector Machine\n",
      "\t0 - To Exit\n",
      "Choice: 3\n",
      "Found 9233 images belonging to 2 classes.\n",
      "Found 1283 images belonging to 2 classes.\n",
      "Start training process for the SGD model...\n",
      "Epoch 1/10 (200.86 seconds)\n",
      "Epoch 2/10 (196.72 seconds)\n",
      "Epoch 3/10 (210.03 seconds)\n",
      "Epoch 4/10 (204.94 seconds)\n",
      "Epoch 5/10 (215.13 seconds)\n",
      "Epoch 6/10 (208.32 seconds)\n",
      "Epoch 7/10 (201.00 seconds)\n",
      "Epoch 8/10 (197.43 seconds)\n",
      "Epoch 9/10 (210.07 seconds)\n",
      "Epoch 10/10 (204.40 seconds)\n",
      "Training process for the SGD model was sucessful!\n",
      "Start evaluating the SGD model on test set...\n",
      "Found 2671 images belonging to 1 classes.\n",
      "1000 images processed\n",
      "2000 images processed\n",
      "2671 images processed\n",
      "SGD model was evaluated on test set successfully!\n",
      "                     true_benign  true_malignant\n",
      "predicted_benign            1106             529\n",
      "predicted_malignant          386             650\n"
     ]
    },
    {
     "data": {
      "image/png": "[encoded data removed]",
      "text/plain": [
       "<Figure size 432x288 with 1 Axes>"
      ]
     },
     "metadata": {
      "needs_background": "light"
     },
     "output_type": "display_data"
    },
    {
     "name": "stdout",
     "output_type": "stream",
     "text": [
      "\n",
      "\n",
      "                     true_benign  true_malignant\n",
      "predicted_benign            1106             529\n",
      "predicted_malignant          386             650\n",
      "\n",
      "\n",
      "             precision    recall  f1-score support\n",
      "benign        0.676453  0.741287  0.707387    1492\n",
      "malignant     0.627413  0.551315  0.586907    1179\n",
      "accuracy            NA        NA  0.657432    2671\n",
      "macro avg     0.651933  0.646301  0.647147    2671\n",
      "weighted avg  0.654806  0.657432  0.654207    2671\n",
      "\n",
      "Insert:\n",
      "\t1 - To evaluate a MultiLayer Perceptron NN\n",
      "\t2 - To evaluate a Convolutional NN\n",
      "\t3 - To evaluate a Stochastic Gradient Descent\n",
      "\t4 - To evaluate a Support Vector Machine\n",
      "\t0 - To Exit\n",
      "Choice: 4\n",
      "Found 9233 images belonging to 2 classes.\n",
      "Found 1283 images belonging to 2 classes.\n",
      "Start training process for the SVM model...\n",
      "Epoch 1/10 (413.64 seconds)\n",
      "Epoch 2/10 (409.97 seconds)\n",
      "Epoch 3/10 (409.69 seconds)\n",
      "Epoch 4/10 (410.59 seconds)\n",
      "Epoch 5/10 (409.93 seconds)\n",
      "Epoch 6/10 is evaluating...\r"
     ]
    }
   ],
   "source": [
    "if __name__ == '__main__':    \n",
    "    if int(utils.tf_version().split('.')[0]) < 2:\n",
    "        raise Exception('Tensorflow version must be at least 2.x.x! Please update!')\n",
    "\n",
    "    batch_size = 64 # Amount of elements that feeded together to the model for processing\n",
    "    rescale_factor = 1./255\n",
    "    lr = 1e-5 # Initial learning rate\n",
    "    num_classes = 2 # Number of classes to classify to\n",
    "    y_actual, _ = utils.y_actual_labels() # Get the actual label for the test set\n",
    "\n",
    "    choice = -1\n",
    "    while choice != 0:\n",
    "        choice = int(input('\\nInsert:'                           '\\n\\t1 - To evaluate a MultiLayer Perceptron NN'                           '\\n\\t2 - To evaluate a Convolutional NN'                           '\\n\\t3 - To evaluate a Stochastic Gradient Descent'                '\\n\\t4 - To evaluate a Support Vector Machine'                  '\\n\\t0 - To Exit'                           '\\nChoice: '))\n",
    "\n",
    "        epochs = 1\n",
    "        name = ''\n",
    "\n",
    "        if choice == 0:\n",
    "            raise SystemExit()\n",
    "        elif choice == 1:\n",
    "            model = build_mlp(neurons = [512, 512], num_classes = num_classes, lr = lr)\n",
    "            epochs = 10\n",
    "            name = 'MLP'\n",
    "        elif choice == 2:\n",
    "            model = build_cnn(input_shape = (256, 256, 3), num_classes = num_classes,\n",
    "                              lr = lr, filters = [32, 32, 32], neurons = [512])\n",
    "            epochs = 10\n",
    "            name = 'CNN'\n",
    "        elif choice == 3:\n",
    "            epochs = 10\n",
    "            name = 'SGD'\n",
    "        elif choice == 4:\n",
    "            epochs = 10\n",
    "            name = 'SVM'\n",
    "        else:\n",
    "            print('Invalid choice!\\n')\n",
    "            continue\n",
    "            \n",
    "        if choice in [1, 2]:\n",
    "            result = utils.run_nn(model, epochs = epochs, batch_size = batch_size, rescale_factor = rescale_factor, name = name)\n",
    "\n",
    "            print(name + ' model evaluated in train set with',\n",
    "                  ' and '.join([i + ' = ' + str(j) for i, j in result['metrics'].items()]))\n",
    "\n",
    "            for what in ['accuracy', 'loss']:\n",
    "                where = 'lower right'\n",
    "\n",
    "                if what == 'loss':\n",
    "                    where = 'lower left'\n",
    "\n",
    "                utils.plot_model(result['history'].history[what], result['history'].history['val_' + what],\n",
    "                                 what, where)\n",
    "        elif choice in [3, 4]:\n",
    "            \n",
    "            result = utils.run_not_nn(epochs = epochs, batch_size = batch_size, alpha = lr, rescale_factor = rescale_factor, name = name)\n",
    "            \n",
    "            print(utils.confusion_matrix(y_actual, result['predictions']))\n",
    "           \n",
    "            get_ipython().run_line_magic('matplotlib', 'inline')\n",
    "            import matplotlib.pyplot as plt\n",
    "           \n",
    "            plt.plot([x+1 for x in range(epochs)], result['history'])\n",
    "            plt.title(name+ ' model accuracy')\n",
    "            \n",
    "            plt.ylabel('accuracy')\n",
    "            plt.xlabel('epoch')\n",
    "            plt.legend(['test'], loc='lower left')\n",
    "            plt.show()\n",
    "        \n",
    "        \n",
    "        print('\\n')\n",
    "        print(utils.confusion_matrix(y_actual, result['predictions']))\n",
    "\n",
    "        print('\\n')\n",
    "        print(utils.classification_report(y_actual, result['predictions']))\n",
    "        \n"
   ]
  },
  {
   "cell_type": "code",
   "execution_count": null,
   "metadata": {},
   "outputs": [],
   "source": []
  }
 ],
 "metadata": {
  "kernelspec": {
   "display_name": "Python 3",
   "language": "python",
   "name": "python3"
  },
  "language_info": {
   "codemirror_mode": {
    "name": "ipython",
    "version": 3
   },
   "file_extension": ".py",
   "mimetype": "text/x-python",
   "name": "python",
   "nbconvert_exporter": "python",
   "pygments_lexer": "ipython3",
   "version": "3.7.9"
  }
 },
 "nbformat": 4,
 "nbformat_minor": 4
}
